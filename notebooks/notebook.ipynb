{
 "cells": [
  {
   "cell_type": "markdown",
   "id": "f864f870-ed10-458c-a437-14240f945f60",
   "metadata": {},
   "source": [
    "# EXTRACT"
   ]
  },
  {
   "cell_type": "code",
   "execution_count": 2,
   "id": "5d92a292-a4fc-4426-a903-4d0c61ebacd8",
   "metadata": {},
   "outputs": [],
   "source": [
    "# Импортирование необходимых для работы библиотек\n",
    "import pandas as pd\n",
    "import sqlite3"
   ]
  },
  {
   "cell_type": "code",
   "execution_count": 3,
   "id": "750d8e04-2e1b-4101-9368-23bf00a2624d",
   "metadata": {},
   "outputs": [],
   "source": [
    "# Читаем CSV файл\n",
    "df = pd.read_csv(\"trades (1).csv\", parse_dates=[\"timestamp\"])"
   ]
  },
  {
   "cell_type": "markdown",
   "id": "2625fb0d-a83a-498c-9f79-4525ee6ec333",
   "metadata": {},
   "source": [
    "# TRANSFORM"
   ]
  },
  {
   "cell_type": "code",
   "execution_count": 5,
   "id": "d3b8e62c-9e43-42d6-8c6e-046eb1d761c5",
   "metadata": {},
   "outputs": [
    {
     "name": "stdout",
     "output_type": "stream",
     "text": [
      "Количество строк, колонок: (800, 7)\n",
      "Название колонок: ['timestamp', 'user_id', 'client_type', 'symbol', 'side', 'quantity', 'price']\n"
     ]
    }
   ],
   "source": [
    "# Перед тем, как приступить к этапу \"Transform\" проведем небольшой EDA, что бы понимать с какими данными работаем\n",
    "print(f\"Количество строк, колонок: {df.shape}\")\n",
    "print(f\"Название колонок: {df.columns.tolist()}\")"
   ]
  },
  {
   "cell_type": "code",
   "execution_count": 6,
   "id": "25aeb38f-3920-4736-ab85-6acdd0673114",
   "metadata": {},
   "outputs": [
    {
     "data": {
      "text/html": [
       "<div>\n",
       "<style scoped>\n",
       "    .dataframe tbody tr th:only-of-type {\n",
       "        vertical-align: middle;\n",
       "    }\n",
       "\n",
       "    .dataframe tbody tr th {\n",
       "        vertical-align: top;\n",
       "    }\n",
       "\n",
       "    .dataframe thead th {\n",
       "        text-align: right;\n",
       "    }\n",
       "</style>\n",
       "<table border=\"1\" class=\"dataframe\">\n",
       "  <thead>\n",
       "    <tr style=\"text-align: right;\">\n",
       "      <th></th>\n",
       "      <th>timestamp</th>\n",
       "      <th>user_id</th>\n",
       "      <th>client_type</th>\n",
       "      <th>symbol</th>\n",
       "      <th>side</th>\n",
       "      <th>quantity</th>\n",
       "      <th>price</th>\n",
       "    </tr>\n",
       "  </thead>\n",
       "  <tbody>\n",
       "    <tr>\n",
       "      <th>0</th>\n",
       "      <td>2023-03-17 14:24:00</td>\n",
       "      <td>1001</td>\n",
       "      <td>gold</td>\n",
       "      <td>AAPL</td>\n",
       "      <td>buy</td>\n",
       "      <td>7.67</td>\n",
       "      <td>157.35</td>\n",
       "    </tr>\n",
       "    <tr>\n",
       "      <th>1</th>\n",
       "      <td>2023-02-23 07:31:00</td>\n",
       "      <td>1001</td>\n",
       "      <td>gold</td>\n",
       "      <td>AAPL</td>\n",
       "      <td>buy</td>\n",
       "      <td>1.84</td>\n",
       "      <td>156.98</td>\n",
       "    </tr>\n",
       "    <tr>\n",
       "      <th>2</th>\n",
       "      <td>2023-02-13 03:29:00</td>\n",
       "      <td>1001</td>\n",
       "      <td>gold</td>\n",
       "      <td>SPY</td>\n",
       "      <td>sell</td>\n",
       "      <td>8.28</td>\n",
       "      <td>417.01</td>\n",
       "    </tr>\n",
       "    <tr>\n",
       "      <th>3</th>\n",
       "      <td>2023-02-18 02:41:00</td>\n",
       "      <td>1001</td>\n",
       "      <td>gold</td>\n",
       "      <td>AAPL</td>\n",
       "      <td>sell</td>\n",
       "      <td>1.87</td>\n",
       "      <td>175.42</td>\n",
       "    </tr>\n",
       "    <tr>\n",
       "      <th>4</th>\n",
       "      <td>2023-01-30 09:52:00</td>\n",
       "      <td>1001</td>\n",
       "      <td>gold</td>\n",
       "      <td>QQQ</td>\n",
       "      <td>sell</td>\n",
       "      <td>8.46</td>\n",
       "      <td>351.83</td>\n",
       "    </tr>\n",
       "    <tr>\n",
       "      <th>...</th>\n",
       "      <td>...</td>\n",
       "      <td>...</td>\n",
       "      <td>...</td>\n",
       "      <td>...</td>\n",
       "      <td>...</td>\n",
       "      <td>...</td>\n",
       "      <td>...</td>\n",
       "    </tr>\n",
       "    <tr>\n",
       "      <th>795</th>\n",
       "      <td>2023-02-26 00:19:00</td>\n",
       "      <td>3005</td>\n",
       "      <td>bronze</td>\n",
       "      <td>MSFT</td>\n",
       "      <td>sell</td>\n",
       "      <td>2.59</td>\n",
       "      <td>280.34</td>\n",
       "    </tr>\n",
       "    <tr>\n",
       "      <th>796</th>\n",
       "      <td>2023-01-29 07:59:00</td>\n",
       "      <td>3005</td>\n",
       "      <td>bronze</td>\n",
       "      <td>GOOGL</td>\n",
       "      <td>buy</td>\n",
       "      <td>7.83</td>\n",
       "      <td>2712.76</td>\n",
       "    </tr>\n",
       "    <tr>\n",
       "      <th>797</th>\n",
       "      <td>2023-03-23 13:31:00</td>\n",
       "      <td>3005</td>\n",
       "      <td>bronze</td>\n",
       "      <td>SPY</td>\n",
       "      <td>sell</td>\n",
       "      <td>1.33</td>\n",
       "      <td>400.36</td>\n",
       "    </tr>\n",
       "    <tr>\n",
       "      <th>798</th>\n",
       "      <td>2023-03-14 05:59:00</td>\n",
       "      <td>3005</td>\n",
       "      <td>bronze</td>\n",
       "      <td>AAPL</td>\n",
       "      <td>sell</td>\n",
       "      <td>6.12</td>\n",
       "      <td>164.82</td>\n",
       "    </tr>\n",
       "    <tr>\n",
       "      <th>799</th>\n",
       "      <td>2023-02-05 06:32:00</td>\n",
       "      <td>3005</td>\n",
       "      <td>bronze</td>\n",
       "      <td>AAPL</td>\n",
       "      <td>buy</td>\n",
       "      <td>7.71</td>\n",
       "      <td>153.82</td>\n",
       "    </tr>\n",
       "  </tbody>\n",
       "</table>\n",
       "<p>800 rows × 7 columns</p>\n",
       "</div>"
      ],
      "text/plain": [
       "               timestamp  user_id client_type symbol  side  quantity    price\n",
       "0    2023-03-17 14:24:00     1001        gold   AAPL   buy      7.67   157.35\n",
       "1    2023-02-23 07:31:00     1001        gold   AAPL   buy      1.84   156.98\n",
       "2    2023-02-13 03:29:00     1001        gold    SPY  sell      8.28   417.01\n",
       "3    2023-02-18 02:41:00     1001        gold   AAPL  sell      1.87   175.42\n",
       "4    2023-01-30 09:52:00     1001        gold    QQQ  sell      8.46   351.83\n",
       "..                   ...      ...         ...    ...   ...       ...      ...\n",
       "795  2023-02-26 00:19:00     3005      bronze   MSFT  sell      2.59   280.34\n",
       "796  2023-01-29 07:59:00     3005      bronze  GOOGL   buy      7.83  2712.76\n",
       "797  2023-03-23 13:31:00     3005      bronze    SPY  sell      1.33   400.36\n",
       "798  2023-03-14 05:59:00     3005      bronze   AAPL  sell      6.12   164.82\n",
       "799  2023-02-05 06:32:00     3005      bronze   AAPL   buy      7.71   153.82\n",
       "\n",
       "[800 rows x 7 columns]"
      ]
     },
     "execution_count": 6,
     "metadata": {},
     "output_type": "execute_result"
    }
   ],
   "source": [
    "# Посмотрим на первые и последние 5 строк самих данных\n",
    "df"
   ]
  },
  {
   "cell_type": "code",
   "execution_count": 7,
   "id": "d288e166-aea5-4f2d-a02e-ed1c2c1a8f5c",
   "metadata": {},
   "outputs": [
    {
     "data": {
      "text/html": [
       "<div>\n",
       "<style scoped>\n",
       "    .dataframe tbody tr th:only-of-type {\n",
       "        vertical-align: middle;\n",
       "    }\n",
       "\n",
       "    .dataframe tbody tr th {\n",
       "        vertical-align: top;\n",
       "    }\n",
       "\n",
       "    .dataframe thead th {\n",
       "        text-align: right;\n",
       "    }\n",
       "</style>\n",
       "<table border=\"1\" class=\"dataframe\">\n",
       "  <thead>\n",
       "    <tr style=\"text-align: right;\">\n",
       "      <th></th>\n",
       "      <th>user_id</th>\n",
       "      <th>quantity</th>\n",
       "      <th>price</th>\n",
       "    </tr>\n",
       "  </thead>\n",
       "  <tbody>\n",
       "    <tr>\n",
       "      <th>count</th>\n",
       "      <td>800.000000</td>\n",
       "      <td>795.000000</td>\n",
       "      <td>795.000000</td>\n",
       "    </tr>\n",
       "    <tr>\n",
       "      <th>mean</th>\n",
       "      <td>1995.522500</td>\n",
       "      <td>5.490302</td>\n",
       "      <td>749.079560</td>\n",
       "    </tr>\n",
       "    <tr>\n",
       "      <th>std</th>\n",
       "      <td>820.550258</td>\n",
       "      <td>2.577035</td>\n",
       "      <td>919.318597</td>\n",
       "    </tr>\n",
       "    <tr>\n",
       "      <th>min</th>\n",
       "      <td>1001.000000</td>\n",
       "      <td>1.040000</td>\n",
       "      <td>150.020000</td>\n",
       "    </tr>\n",
       "    <tr>\n",
       "      <th>25%</th>\n",
       "      <td>1004.000000</td>\n",
       "      <td>3.200000</td>\n",
       "      <td>287.345000</td>\n",
       "    </tr>\n",
       "    <tr>\n",
       "      <th>50%</th>\n",
       "      <td>2003.000000</td>\n",
       "      <td>5.570000</td>\n",
       "      <td>366.110000</td>\n",
       "    </tr>\n",
       "    <tr>\n",
       "      <th>75%</th>\n",
       "      <td>3002.000000</td>\n",
       "      <td>7.715000</td>\n",
       "      <td>433.800000</td>\n",
       "    </tr>\n",
       "    <tr>\n",
       "      <th>max</th>\n",
       "      <td>3005.000000</td>\n",
       "      <td>9.990000</td>\n",
       "      <td>2796.650000</td>\n",
       "    </tr>\n",
       "  </tbody>\n",
       "</table>\n",
       "</div>"
      ],
      "text/plain": [
       "           user_id    quantity        price\n",
       "count   800.000000  795.000000   795.000000\n",
       "mean   1995.522500    5.490302   749.079560\n",
       "std     820.550258    2.577035   919.318597\n",
       "min    1001.000000    1.040000   150.020000\n",
       "25%    1004.000000    3.200000   287.345000\n",
       "50%    2003.000000    5.570000   366.110000\n",
       "75%    3002.000000    7.715000   433.800000\n",
       "max    3005.000000    9.990000  2796.650000"
      ]
     },
     "execution_count": 7,
     "metadata": {},
     "output_type": "execute_result"
    }
   ],
   "source": [
    "df.describe()"
   ]
  },
  {
   "cell_type": "code",
   "execution_count": 8,
   "id": "1ec4142c-f065-47ed-a0f8-b3d1bb9e03c1",
   "metadata": {},
   "outputs": [
    {
     "data": {
      "text/plain": [
       "True"
      ]
     },
     "execution_count": 8,
     "metadata": {},
     "output_type": "execute_result"
    }
   ],
   "source": [
    "# Проверяем есть ли Null Values\n",
    "df.isnull().values.any()"
   ]
  },
  {
   "cell_type": "code",
   "execution_count": 9,
   "id": "88211882-7996-44c9-8e4c-65aeaaac4c36",
   "metadata": {},
   "outputs": [
    {
     "data": {
      "text/plain": [
       "timestamp      5\n",
       "user_id        0\n",
       "client_type    0\n",
       "symbol         5\n",
       "side           0\n",
       "quantity       5\n",
       "price          5\n",
       "dtype: int64"
      ]
     },
     "execution_count": 9,
     "metadata": {},
     "output_type": "execute_result"
    }
   ],
   "source": [
    "# Смотрим количество Null Values\n",
    "df.isnull().sum()"
   ]
  },
  {
   "cell_type": "code",
   "execution_count": 10,
   "id": "300a9ccd-ca3a-49c0-a780-c6bdab522fe1",
   "metadata": {},
   "outputs": [
    {
     "name": "stdout",
     "output_type": "stream",
     "text": [
      "      timestamp  user_id client_type symbol  side  quantity  price\n",
      "293         NaN     2001      silver   MSFT   buy       1.5  300.0\n",
      "294  not_a_date     2001      silver    NaN  sell       NaN    NaN\n",
      "339         NaN     2002      silver   MSFT   buy       1.5  300.0\n",
      "340  not_a_date     2002      silver    NaN  sell       NaN    NaN\n",
      "381         NaN     2003      silver   MSFT   buy       1.5  300.0\n",
      "382  not_a_date     2003      silver    NaN  sell       NaN    NaN\n",
      "443         NaN     2004      silver   MSFT   buy       1.5  300.0\n",
      "444  not_a_date     2004      silver    NaN  sell       NaN    NaN\n",
      "493         NaN     2005      silver   MSFT   buy       1.5  300.0\n",
      "494  not_a_date     2005      silver    NaN  sell       NaN    NaN\n"
     ]
    }
   ],
   "source": [
    "# Посмотрим Null Values \"по ближе\"\n",
    "print(df[df.isnull().any(axis=1)])"
   ]
  },
  {
   "cell_type": "code",
   "execution_count": 11,
   "id": "bef1410c-d5f3-427a-a3da-12980974f07a",
   "metadata": {},
   "outputs": [
    {
     "name": "stdout",
     "output_type": "stream",
     "text": [
      "5\n"
     ]
    }
   ],
   "source": [
    "# not_a_date? Сколько таких случаев?\n",
    "count_not_a_date = (df[\"timestamp\"] == \"not_a_date\").sum()\n",
    "print(count_not_a_date)"
   ]
  },
  {
   "cell_type": "markdown",
   "id": "9c2b9959-dceb-43cb-bb0e-73b1c30f1847",
   "metadata": {},
   "source": [
    "### Прежде чем приняти решение, что делать с Null Values следут посмотреть какую важность они имеют для проведения анализа"
   ]
  },
  {
   "cell_type": "code",
   "execution_count": 13,
   "id": "3b6a1317-5f29-4008-ac66-0742704ea30f",
   "metadata": {},
   "outputs": [
    {
     "name": "stdout",
     "output_type": "stream",
     "text": [
      "    user_id  total_rows  null_rows  null_percent\n",
      "0      1001          60        0.0          0.00\n",
      "1      1002          51        0.0          0.00\n",
      "2      1003          57        0.0          0.00\n",
      "3      1004          51        0.0          0.00\n",
      "4      1005          53        0.0          0.00\n",
      "5      2001          46        2.0          4.35\n",
      "6      2002          42        2.0          4.76\n",
      "7      2003          62        2.0          3.23\n",
      "8      2004          50        2.0          4.00\n",
      "9      2005          62        2.0          3.23\n",
      "10     3001          55        0.0          0.00\n",
      "11     3002          53        0.0          0.00\n",
      "12     3003          54        0.0          0.00\n",
      "13     3004          53        0.0          0.00\n",
      "14     3005          51        0.0          0.00\n"
     ]
    }
   ],
   "source": [
    "# Создаем маску строк, где есть хотя бы один Null Value\n",
    "mask = df[[\"timestamp\", \"symbol\", \"quantity\", \"price\"]].isna().any(axis=1)\n",
    "# Строки с null\n",
    "null_rows = df[mask]\n",
    "\n",
    "# Обсчитываем общее количество строк на каждого пользователя\n",
    "total_per_user = df.groupby(\"user_id\").size().reset_index(name=\"total_rows\")\n",
    "\n",
    "# Обсчитываем количество строк с Null Value на user_id\n",
    "null_per_user = null_rows.groupby(\"user_id\").size().reset_index(name=\"null_rows\")\n",
    "\n",
    "# Объединяем\n",
    "report = total_per_user.merge(null_per_user, on=\"user_id\", how=\"left\").fillna(0)\n",
    "\n",
    "# Добавляем % Null Values\n",
    "report[\"null_percent\"] = (report[\"null_rows\"] / report[\"total_rows\"] * 100).round(2)\n",
    "\n",
    "print(report)"
   ]
  },
  {
   "cell_type": "markdown",
   "id": "3031a185-1f43-46a8-bc97-b7ceec32bc4c",
   "metadata": {},
   "source": [
    "### Мы видим, что Null Values присутствуют только у user_id со значением 2001 - 2005 (включительно), то есть под влиянием Null Values оказываються 5 из 15 пользователей, что составляет 30% всех пользователей\n",
    "Для принятия финального решения стоит посчитать общее количество Null Values и их % от всех значений, что бы определить их влияние на весь dataset"
   ]
  },
  {
   "cell_type": "code",
   "execution_count": 15,
   "id": "16a3b614-4843-48c9-8152-0661fabe21ef",
   "metadata": {},
   "outputs": [
    {
     "name": "stdout",
     "output_type": "stream",
     "text": [
      "Всего значений: 5600\n",
      "Null Values: 20\n",
      "Доля Null Values: 0.36%\n"
     ]
    }
   ],
   "source": [
    "# Обсчитываем общее количество значений (строки × колонки)\n",
    "total_values = df.size  \n",
    "\n",
    "# Обсчитываем общее количество Null Values\n",
    "null_values = df.isna().sum().sum()\n",
    "\n",
    "# Обсчитываем % Null Values от всех значений\n",
    "null_percent = round(null_values / total_values * 100, 2)\n",
    "\n",
    "print(f\"Всего значений: {total_values}\")\n",
    "print(f\"Null Values: {null_values}\")\n",
    "print(f\"Доля Null Values: {null_percent}%\")"
   ]
  },
  {
   "cell_type": "code",
   "execution_count": 16,
   "id": "36b9c18f-a654-4a8f-bdfc-0e44be4fd8fb",
   "metadata": {},
   "outputs": [],
   "source": [
    "# Учитывая, низкое значение доли Null Values (0.36%) и тот факт, что это тестовое задание - в этот раз мы просто избавимся от строк, в которых есть Null Values\n",
    "df = df.dropna()"
   ]
  },
  {
   "cell_type": "code",
   "execution_count": 17,
   "id": "80a15948-3a3a-4d3a-9307-85f24efd60c6",
   "metadata": {},
   "outputs": [
    {
     "name": "stdout",
     "output_type": "stream",
     "text": [
      "0\n"
     ]
    }
   ],
   "source": [
    "# Проверяем кейс not_a_date\n",
    "count_not_a_date = (df[\"timestamp\"] == \"not_a_date\").sum()\n",
    "print(count_not_a_date)"
   ]
  },
  {
   "cell_type": "code",
   "execution_count": 18,
   "id": "eae126d2-7f34-4e5a-b6a2-b3948b0b4dd3",
   "metadata": {},
   "outputs": [
    {
     "name": "stdout",
     "output_type": "stream",
     "text": [
      "Empty DataFrame\n",
      "Columns: [timestamp, user_id, client_type, symbol, side, quantity, price]\n",
      "Index: []\n"
     ]
    }
   ],
   "source": [
    "# Double-checking\n",
    "print(df[df.isnull().any(axis=1)])"
   ]
  },
  {
   "cell_type": "code",
   "execution_count": 19,
   "id": "e1937ac4-62da-49a9-9400-bdcc8d625590",
   "metadata": {},
   "outputs": [
    {
     "data": {
      "text/plain": [
       "timestamp      0\n",
       "user_id        0\n",
       "client_type    0\n",
       "symbol         0\n",
       "side           0\n",
       "quantity       0\n",
       "price          0\n",
       "dtype: int64"
      ]
     },
     "execution_count": 19,
     "metadata": {},
     "output_type": "execute_result"
    }
   ],
   "source": [
    "# Double-checking\n",
    "df.isnull().sum()"
   ]
  },
  {
   "cell_type": "code",
   "execution_count": 20,
   "id": "d89198be-232c-4607-bd89-fe9a58ec31f7",
   "metadata": {},
   "outputs": [
    {
     "data": {
      "text/plain": [
       "0"
      ]
     },
     "execution_count": 20,
     "metadata": {},
     "output_type": "execute_result"
    }
   ],
   "source": [
    "# Проверяем на предмет наличия дубликатов\n",
    "df.duplicated().sum()"
   ]
  },
  {
   "cell_type": "code",
   "execution_count": 21,
   "id": "19348186-3366-483d-bc88-30bedf8689b3",
   "metadata": {},
   "outputs": [
    {
     "data": {
      "text/plain": [
       "timestamp       object\n",
       "user_id          int64\n",
       "client_type     object\n",
       "symbol          object\n",
       "side            object\n",
       "quantity       float64\n",
       "price          float64\n",
       "dtype: object"
      ]
     },
     "execution_count": 21,
     "metadata": {},
     "output_type": "execute_result"
    }
   ],
   "source": [
    "# Проверяем правильность форматов\n",
    "df.dtypes"
   ]
  },
  {
   "cell_type": "code",
   "execution_count": 22,
   "id": "cec8631d-3241-4f0a-901b-77fa365419ab",
   "metadata": {},
   "outputs": [],
   "source": [
    "# Делаем копию\n",
    "df = df.copy()"
   ]
  },
  {
   "cell_type": "code",
   "execution_count": 23,
   "id": "59c8ba8b-e33c-45c7-8ab7-52fd8aa2b781",
   "metadata": {},
   "outputs": [],
   "source": [
    "# Проставляем соответсвующие форматы + нормализируем\n",
    "df[\"timestamp\"] = pd.to_datetime(df[\"timestamp\"], errors=\"coerce\")\n",
    "df[\"client_type\"] = df[\"client_type\"].astype(\"string\").str.lower().str.strip()\n",
    "df[\"symbol\"] = df[\"symbol\"].astype(\"string\").str.upper().str.strip()\n",
    "df[\"side\"] = df[\"side\"].astype(\"string\").str.lower().str.strip()"
   ]
  },
  {
   "cell_type": "code",
   "execution_count": 24,
   "id": "74ef35ad-f2b4-46a6-991c-89b0f3fe1970",
   "metadata": {},
   "outputs": [
    {
     "data": {
      "text/plain": [
       "timestamp      datetime64[ns]\n",
       "user_id                 int64\n",
       "client_type    string[python]\n",
       "symbol         string[python]\n",
       "side           string[python]\n",
       "quantity              float64\n",
       "price                 float64\n",
       "dtype: object"
      ]
     },
     "execution_count": 24,
     "metadata": {},
     "output_type": "execute_result"
    }
   ],
   "source": [
    "# Double-checking\n",
    "df.dtypes"
   ]
  },
  {
   "cell_type": "markdown",
   "id": "f0859a27-14b5-4fe0-9c12-416e8c559683",
   "metadata": {},
   "source": [
    "### Преобразование timestamp в week_start_date (понедельник)"
   ]
  },
  {
   "cell_type": "code",
   "execution_count": 26,
   "id": "35ba1051-e6ee-4d13-8392-b17641c7ad8b",
   "metadata": {},
   "outputs": [],
   "source": [
    "# Преобразование timestamp в week_start_date (понедельник)\n",
    "df[\"week_start_date\"] = df[\"timestamp\"].dt.to_period(\"W-MON\").dt.start_time"
   ]
  },
  {
   "cell_type": "markdown",
   "id": "c87f09c7-946b-48e9-a2d8-d54d51a525d0",
   "metadata": {},
   "source": [
    "### Агрегируйте данные по: week_start_date client_type (gold, silver, bronze) user_id symbol"
   ]
  },
  {
   "cell_type": "code",
   "execution_count": 28,
   "id": "5939fd12-96ef-461c-a9c6-7030aa9f3393",
   "metadata": {},
   "outputs": [
    {
     "data": {
      "text/plain": [
       "client_type\n",
       "gold      272\n",
       "bronze    266\n",
       "silver    252\n",
       "Name: count, dtype: Int64"
      ]
     },
     "execution_count": 28,
     "metadata": {},
     "output_type": "execute_result"
    }
   ],
   "source": [
    "# Прежде чем переходить к агрегации данних проверяем какие значения есть в колонке \"client_type\" и есть ли необходимось фильтровать (gold, silver, bronze)\n",
    "df[\"client_type\"].value_counts()"
   ]
  },
  {
   "cell_type": "code",
   "execution_count": 29,
   "id": "6e6f2496-ac3b-4976-914a-74936b42a4a6",
   "metadata": {},
   "outputs": [],
   "source": [
    "# Посколько иных значений от (gold, silver, bronze) в колонке \"client_type\" нет - переходим к агрегации\n",
    "# Добавляем колонку с расчетом pnl\n",
    "df[\"pnl\"] = df.apply(lambda r: r[\"quantity\"] * r[\"price\"] * (1 if r[\"side\"].lower()==\"sell\" else -1), axis=1)"
   ]
  },
  {
   "cell_type": "code",
   "execution_count": 30,
   "id": "5830e77a-d7c8-4bb2-8b4b-8bc9874faee1",
   "metadata": {},
   "outputs": [],
   "source": [
    "# Выполняем агрегацию с рассчитыванием total_volume, total_pnl, trade_count\n",
    "agg = (\n",
    "    df.groupby([\"week_start_date\", \"client_type\", \"user_id\", \"symbol\"])\n",
    "      .agg(\n",
    "          total_volume=(\"quantity\", \"sum\"),\n",
    "          total_pnl=(\"pnl\", \"sum\"),\n",
    "          trade_count=(\"user_id\", \"count\")\n",
    "      )\n",
    "      .reset_index()\n",
    ")"
   ]
  },
  {
   "cell_type": "code",
   "execution_count": 31,
   "id": "674e9def-bd95-4dbe-bc9d-c22b9bbf0b6f",
   "metadata": {},
   "outputs": [
    {
     "data": {
      "text/html": [
       "<div>\n",
       "<style scoped>\n",
       "    .dataframe tbody tr th:only-of-type {\n",
       "        vertical-align: middle;\n",
       "    }\n",
       "\n",
       "    .dataframe tbody tr th {\n",
       "        vertical-align: top;\n",
       "    }\n",
       "\n",
       "    .dataframe thead th {\n",
       "        text-align: right;\n",
       "    }\n",
       "</style>\n",
       "<table border=\"1\" class=\"dataframe\">\n",
       "  <thead>\n",
       "    <tr style=\"text-align: right;\">\n",
       "      <th></th>\n",
       "      <th>week_start_date</th>\n",
       "      <th>client_type</th>\n",
       "      <th>user_id</th>\n",
       "      <th>symbol</th>\n",
       "      <th>total_volume</th>\n",
       "      <th>total_pnl</th>\n",
       "      <th>trade_count</th>\n",
       "    </tr>\n",
       "  </thead>\n",
       "  <tbody>\n",
       "    <tr>\n",
       "      <th>0</th>\n",
       "      <td>2022-12-27</td>\n",
       "      <td>bronze</td>\n",
       "      <td>3002</td>\n",
       "      <td>GOOGL</td>\n",
       "      <td>8.12</td>\n",
       "      <td>-21216.2608</td>\n",
       "      <td>1</td>\n",
       "    </tr>\n",
       "    <tr>\n",
       "      <th>1</th>\n",
       "      <td>2022-12-27</td>\n",
       "      <td>bronze</td>\n",
       "      <td>3004</td>\n",
       "      <td>AAPL</td>\n",
       "      <td>6.56</td>\n",
       "      <td>1102.1456</td>\n",
       "      <td>1</td>\n",
       "    </tr>\n",
       "    <tr>\n",
       "      <th>2</th>\n",
       "      <td>2022-12-27</td>\n",
       "      <td>bronze</td>\n",
       "      <td>3004</td>\n",
       "      <td>GOOGL</td>\n",
       "      <td>2.67</td>\n",
       "      <td>-7158.8574</td>\n",
       "      <td>1</td>\n",
       "    </tr>\n",
       "    <tr>\n",
       "      <th>3</th>\n",
       "      <td>2022-12-27</td>\n",
       "      <td>bronze</td>\n",
       "      <td>3004</td>\n",
       "      <td>SPY</td>\n",
       "      <td>8.74</td>\n",
       "      <td>-3860.3706</td>\n",
       "      <td>1</td>\n",
       "    </tr>\n",
       "    <tr>\n",
       "      <th>4</th>\n",
       "      <td>2022-12-27</td>\n",
       "      <td>bronze</td>\n",
       "      <td>3005</td>\n",
       "      <td>MSFT</td>\n",
       "      <td>4.62</td>\n",
       "      <td>1349.8254</td>\n",
       "      <td>1</td>\n",
       "    </tr>\n",
       "    <tr>\n",
       "      <th>...</th>\n",
       "      <td>...</td>\n",
       "      <td>...</td>\n",
       "      <td>...</td>\n",
       "      <td>...</td>\n",
       "      <td>...</td>\n",
       "      <td>...</td>\n",
       "      <td>...</td>\n",
       "    </tr>\n",
       "    <tr>\n",
       "      <th>557</th>\n",
       "      <td>2023-03-28</td>\n",
       "      <td>silver</td>\n",
       "      <td>2003</td>\n",
       "      <td>QQQ</td>\n",
       "      <td>7.39</td>\n",
       "      <td>2796.3760</td>\n",
       "      <td>1</td>\n",
       "    </tr>\n",
       "    <tr>\n",
       "      <th>558</th>\n",
       "      <td>2023-03-28</td>\n",
       "      <td>silver</td>\n",
       "      <td>2004</td>\n",
       "      <td>AAPL</td>\n",
       "      <td>1.84</td>\n",
       "      <td>-312.3952</td>\n",
       "      <td>1</td>\n",
       "    </tr>\n",
       "    <tr>\n",
       "      <th>559</th>\n",
       "      <td>2023-03-28</td>\n",
       "      <td>silver</td>\n",
       "      <td>2004</td>\n",
       "      <td>QQQ</td>\n",
       "      <td>7.97</td>\n",
       "      <td>2862.7443</td>\n",
       "      <td>1</td>\n",
       "    </tr>\n",
       "    <tr>\n",
       "      <th>560</th>\n",
       "      <td>2023-03-28</td>\n",
       "      <td>silver</td>\n",
       "      <td>2005</td>\n",
       "      <td>AAPL</td>\n",
       "      <td>10.34</td>\n",
       "      <td>1607.9512</td>\n",
       "      <td>2</td>\n",
       "    </tr>\n",
       "    <tr>\n",
       "      <th>561</th>\n",
       "      <td>2023-03-28</td>\n",
       "      <td>silver</td>\n",
       "      <td>2005</td>\n",
       "      <td>GOOGL</td>\n",
       "      <td>4.39</td>\n",
       "      <td>-11668.7956</td>\n",
       "      <td>1</td>\n",
       "    </tr>\n",
       "  </tbody>\n",
       "</table>\n",
       "<p>562 rows × 7 columns</p>\n",
       "</div>"
      ],
      "text/plain": [
       "    week_start_date client_type  user_id symbol  total_volume   total_pnl  \\\n",
       "0        2022-12-27      bronze     3002  GOOGL          8.12 -21216.2608   \n",
       "1        2022-12-27      bronze     3004   AAPL          6.56   1102.1456   \n",
       "2        2022-12-27      bronze     3004  GOOGL          2.67  -7158.8574   \n",
       "3        2022-12-27      bronze     3004    SPY          8.74  -3860.3706   \n",
       "4        2022-12-27      bronze     3005   MSFT          4.62   1349.8254   \n",
       "..              ...         ...      ...    ...           ...         ...   \n",
       "557      2023-03-28      silver     2003    QQQ          7.39   2796.3760   \n",
       "558      2023-03-28      silver     2004   AAPL          1.84   -312.3952   \n",
       "559      2023-03-28      silver     2004    QQQ          7.97   2862.7443   \n",
       "560      2023-03-28      silver     2005   AAPL         10.34   1607.9512   \n",
       "561      2023-03-28      silver     2005  GOOGL          4.39 -11668.7956   \n",
       "\n",
       "     trade_count  \n",
       "0              1  \n",
       "1              1  \n",
       "2              1  \n",
       "3              1  \n",
       "4              1  \n",
       "..           ...  \n",
       "557            1  \n",
       "558            1  \n",
       "559            1  \n",
       "560            2  \n",
       "561            1  \n",
       "\n",
       "[562 rows x 7 columns]"
      ]
     },
     "execution_count": 31,
     "metadata": {},
     "output_type": "execute_result"
    }
   ],
   "source": [
    "# Посмотрим на первые и последние 5 строк\n",
    "agg"
   ]
  },
  {
   "cell_type": "code",
   "execution_count": 32,
   "id": "87054b5a-c041-4933-9a17-83ef99c66e66",
   "metadata": {},
   "outputs": [
    {
     "name": "stdout",
     "output_type": "stream",
     "text": [
      "562\n"
     ]
    }
   ],
   "source": [
    "# Double-checking на правильность проведения агрегации\n",
    "n_unique = df.groupby([\"week_start_date\",\"client_type\",\"user_id\",\"symbol\"]).ngroups\n",
    "print(n_unique)"
   ]
  },
  {
   "cell_type": "markdown",
   "id": "c4cc1592-9917-4c85-9b2f-390ff291aba1",
   "metadata": {},
   "source": [
    "# LOAD"
   ]
  },
  {
   "cell_type": "code",
   "execution_count": 34,
   "id": "936422bb-7e26-4260-bb25-7ae1a3a07793",
   "metadata": {},
   "outputs": [],
   "source": [
    "# Создаём БД, открываем и устанавливаем связь с БД\n",
    "con = sqlite3.connect(\"agg_result.db\")\n",
    "\n",
    "# Записываем результаты нашей агрегации в БД, в таблицу с названием \"agg_trades_weekly\"\n",
    "agg.to_sql(\"agg_trades_weekly\", con, if_exists=\"replace\", index=False)\n",
    "\n",
    "# Закрываем связь с БД\n",
    "con.close()"
   ]
  },
  {
   "cell_type": "markdown",
   "id": "585fe4f3-9303-4f01-a9fa-c6f339cf028a",
   "metadata": {},
   "source": [
    "# Reporting"
   ]
  },
  {
   "cell_type": "markdown",
   "id": "9e6e1ee2-e4fa-4c9e-878a-d821c4018329",
   "metadata": {},
   "source": [
    "## Постройте 1–2 графика по агрегированным данным"
   ]
  },
  {
   "cell_type": "code",
   "execution_count": 62,
   "id": "193722b5-2d26-44ad-a37f-a9dfd39bf164",
   "metadata": {},
   "outputs": [
    {
     "name": "stderr",
     "output_type": "stream",
     "text": [
      "Matplotlib is building the font cache; this may take a moment.\n"
     ]
    }
   ],
   "source": [
    "# Импортируем необходимую для визуализации библиотеку\n",
    "import matplotlib.pyplot as plt\n",
    "import matplotlib.font_manager as fm"
   ]
  },
  {
   "cell_type": "markdown",
   "id": "03309299-861b-4b58-a8c1-a721894fb900",
   "metadata": {},
   "source": [
    "### Первый график будет отображать понедельное изменение объема сделок для всех типов клиентов"
   ]
  },
  {
   "cell_type": "code",
   "execution_count": 101,
   "id": "36234d80-7d85-4628-bbe2-fffc0134ead7",
   "metadata": {},
   "outputs": [
    {
     "data": {
      "image/png": "[encoded data removed]",
      "text/plain": [
       "<Figure size 800x500 with 1 Axes>"
      ]
     },
     "metadata": {},
     "output_type": "display_data"
    }
   ],
   "source": [
    "# Создаём график\n",
    "plt.figure(figsize=(8,5))\n",
    "\n",
    "# Группируем по неделям и типам клиентов\n",
    "for CT, part in agg.groupby(\"client_type\"):\n",
    "    weekly = part.groupby(\"week_start_date\")[\"total_volume\"].sum().sort_index()\n",
    "    plt.plot(weekly.index, weekly.values, marker=\"o\", label=CT)\n",
    "\n",
    "# Настраиваем свойства графика\n",
    "plt.title(\n",
    "    \"Total Volume by Week & Client Type\",\n",
    "    fontname=\"Montserrat\", fontsize=16, fontweight=\"bold\"\n",
    ") # Устанавливаем корпортавиный шрифт компании для заголовков\n",
    "plt.xlabel(\"Week Start Date\", fontname=\"Inter\", fontsize=12) # Устанавливаем корпортавиный шрифт компании для набора текста\n",
    "plt.ylabel(\"Total Volume\", fontname=\"Inter\", fontsize=12) # Устанавливаем корпортавиный шрифт компании для набора текста\n",
    "plt.legend(prop={\"family\": \"Inter\", \"size\": 10}) # Устанавливаем корпортавиный шрифт компании для набора текста\n",
    "plt.xticks(fontname=\"Inter\", fontsize=9, rotation=30) # Устанавливаем корпортавиный шрифт компании для набора текста\n",
    "plt.yticks(fontname=\"Inter\", fontsize=9) # Устанавливаем корпортавиный шрифт компании для набора текста\n",
    "plt.grid(True, alpha=0.3)\n",
    "plt.tight_layout()\n",
    "\n",
    "# Сохраняем и отображаем график\n",
    "plt.savefig(\"output/weekly_volume.png\", dpi=300)\n",
    "plt.show()"
   ]
  },
  {
   "cell_type": "markdown",
   "id": "dff5579c-779b-4d0a-b13a-98b43706daea",
   "metadata": {},
   "source": [
    "### Второй график будет отображать торговый объем каждого актива, который есть в БД "
   ]
  },
  {
   "cell_type": "code",
   "execution_count": 123,
   "id": "747ac468-fca3-4b84-93e8-74981d0ccad9",
   "metadata": {},
   "outputs": [
    {
     "data": {
      "image/png": "[encoded data removed]",
      "text/plain": [
       "<Figure size 800x500 with 1 Axes>"
      ]
     },
     "metadata": {},
     "output_type": "display_data"
    }
   ],
   "source": [
    "# Считаем суммарный объем по символам\n",
    "symbols_total_volume = (\n",
    "    agg.groupby(\"symbol\")[\"total_volume\"]\n",
    "          .sum()\n",
    "          .sort_values(ascending=False)\n",
    ")\n",
    "\n",
    "plt.figure(figsize=(8,5))\n",
    "\n",
    "# сохраняем bar-container в переменную\n",
    "bars = plt.bar(symbols_total_volume.index, symbols_total_volume.values)\n",
    "\n",
    "plt.title(\"Symbols by Total Volume\", \n",
    "          fontname=\"Montserrat\", fontsize=16, fontweight=\"bold\") # Устанавливаем корпортавиный шрифт компании для заголовков\n",
    "plt.xlabel(\"Symbol\", fontname=\"Inter\", fontsize=12) # Устанавливаем корпортавиный шрифт компании для набора текста\n",
    "plt.ylabel(\"Total Volume\", fontname=\"Inter\", fontsize=12) # Устанавливаем корпортавиный шрифт компании для набора текста\n",
    "plt.xticks(fontname=\"Inter\", rotation=30, ha=\"right\")\n",
    "\n",
    "# Добавляем data labels\n",
    "for bar in bars:\n",
    "    height = bar.get_height()\n",
    "    plt.text(\n",
    "        bar.get_x() + bar.get_width()/2,   # X = центр столбца\n",
    "        height,                            # Y = вершина столбца\n",
    "        f\"{height:,.0f}\",                  # подпись с форматированием числа\n",
    "        ha=\"center\", va=\"bottom\",\n",
    "        fontname=\"Inter\", fontsize=9 # Устанавливаем корпортавиный шрифт компании для набора текста\n",
    "    )\n",
    "\n",
    "plt.tight_layout()\n",
    "\n",
    "# Сохраняем и отображаем график\n",
    "plt.savefig(\"output/symbols_total_volume.png\", dpi=300)\n",
    "plt.show()"
   ]
  },
  {
   "cell_type": "markdown",
   "id": "9258e92d-dd99-4196-9c47-6f36d048b1fa",
   "metadata": {},
   "source": [
    "### В конце получите и сохраните:\n",
    "\n",
    "■ CSV/Excel-файл с топ-3 bronze-клиентами с наибольшим:\n",
    "\n",
    "    ■ total_volume\n",
    "    ■ total_pnl (опционально)\n",
    "■ Результаты положите в output/top_clients.xlsx или .csv"
   ]
  },
  {
   "cell_type": "code",
   "execution_count": 93,
   "id": "c5c8aa66-1ada-4e8c-89b3-d13e155af106",
   "metadata": {},
   "outputs": [],
   "source": [
    "bronze = agg[agg[\"client_type\"]==\"bronze\"]\n",
    "top_clients = (\n",
    "    bronze.groupby(\"user_id\")\n",
    "          .agg(total_volume=(\"total_volume\",\"sum\"),\n",
    "               total_pnl=(\"total_pnl\",\"sum\"))\n",
    "          .sort_values(\"total_volume\", ascending=False)\n",
    "          .head(3)\n",
    ")\n",
    "top_clients.to_csv(\"output/top_clients.csv\", index=True)"
   ]
  }
 ],
 "metadata": {
  "kernelspec": {
   "display_name": "Python [conda env:base] *",
   "language": "python",
   "name": "conda-base-py"
  },
  "language_info": {
   "codemirror_mode": {
    "name": "ipython",
    "version": 3
   },
   "file_extension": ".py",
   "mimetype": "text/x-python",
   "name": "python",
   "nbconvert_exporter": "python",
   "pygments_lexer": "ipython3",
   "version": "3.12.7"
  }
 },
 "nbformat": 4,
 "nbformat_minor": 5
}
